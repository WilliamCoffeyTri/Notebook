{
 "cells": [
  {
   "cell_type": "code",
   "execution_count": 44,
   "metadata": {},
   "outputs": [],
   "source": [
    "import numpy\n",
    "import matplotlib.pyplot as plt\n",
    "import pandas as pd"
   ]
  },
  {
   "cell_type": "markdown",
   "metadata": {},
   "source": [
    "## Simpson's Paradox\n",
    "\n",
    "Simpson's paradox arises when a trend visible in all of a series of discrete groups is no longer displayed by the composite of those groups.\n",
    "\n",
    "A well-known example pertains to graduate admissions at the University of California: Berkely. Overall admission figures in 1973 showed a statistically significant bias in acceptance rates for male applicants compared to female applicants. However, in the majority of individual departments the acceptance rates were biased in favor of female applicants. \n",
    "\n",
    "Let's examine the data."
   ]
  },
  {
   "cell_type": "code",
   "execution_count": null,
   "metadata": {},
   "outputs": [],
   "source": [
    "bk = pd.read_csv(\"https://waf.cs.illinois.edu/discovery/berkeley.csv\")\n",
    "bk = bk.drop('Year', axis=1)\n",
    "bk = bk[bk.Major != \"Other\"] # Drop the \"other\" category as its already a composite of many individual categories, and thus already victim to the very paradox we're describing!\n",
    "\n",
    "grouped = bk.groupby('Major')\n",
    "majors = grouped['Major'].unique()\n",
    "majors = [m[0] for m in majors]\n",
    "\n",
    "headers = {\"Major\" : [], \"Applicants\" : [], \"Acceptance\" : [], \"Male Applicants\" : [], \"Male Acceptance\" : [], \"Male Population Percentage\": [], \\\n",
    "           \"Female Applicants\" : [], \"Female Acceptance\" : [], \"Female Population Percentage\" : []}\n",
    "rates = pd.DataFrame(headers)\n",
    "\n",
    "bkgdr = bk.groupby('Gender')\n",
    "\n",
    "for major in majors:\n",
    "    m = {}\n",
    "    gdr = grouped.get_group(major).groupby('Gender')\n",
    "\n",
    "    m[\"Major\"] = major\n",
    "    m[\"Applicants\"] = len(grouped.get_group(major))\n",
    "    m[\"Acceptance\"] = [grouped.get_group(major)['Admission'].value_counts()['Accepted'] / len(grouped.get_group(major))]\n",
    "    m[\"Male Applicants\"] = len(gdr.get_group('M'))    \n",
    "    m[\"Male Acceptance\"] = [gdr.get_group('M')['Admission'].value_counts()['Accepted'] / len(gdr.get_group('M'))]\n",
    "    m[\"Male Population Percentage\"] = [len(gdr.get_group('M'))/len(bkgdr.get_group('M'))]\n",
    "    m[\"Female Applicants\"] = len(gdr.get_group('F'))    \n",
    "    m[\"Female Acceptance\"] = [gdr.get_group('F')['Admission'].value_counts()['Accepted'] / len(gdr.get_group('F'))]\n",
    "    m[\"Female Population Percentage\"] = [len(gdr.get_group('F'))/len(bkgdr.get_group('F'))]\n",
    "    rates = pd.concat([rates, pd.DataFrame(m)])\n",
    "    rates = rates.reset_index(drop=True)\n",
    "\n",
    "m = {}\n",
    "m[\"Major\"] = \"Composite\"\n",
    "m[\"Applicants\"] = len(bk)\n",
    "m[\"Acceptance\"] = [bk['Admission'].value_counts()['Accepted'] / len(bk)]\n",
    "m[\"Male Applicants\"] = len(bkgdr.get_group('M'))    \n",
    "m[\"Male Acceptance\"] = [bkgdr.get_group('M')['Admission'].value_counts()['Accepted'] / len(bkgdr.get_group('M'))]\n",
    "m[\"Female Applicants\"] = len(bkgdr.get_group('F'))    \n",
    "m[\"Female Acceptance\"] = [bkgdr.get_group('F')['Admission'].value_counts()['Accepted'] / len(bkgdr.get_group('F'))]\n",
    "m[\"Male Population Percentage\"] = [1]\n",
    "m[\"Female Population Percentage\"] = [1]\n",
    "rates = pd.concat([rates, pd.DataFrame(m)])\n",
    "rates = rates.reset_index(drop=True)\n",
    "\n",
    "rates['Applicants'] = rates['Applicants'].astype(int)\n",
    "rates['Male Applicants'] = rates['Male Applicants'].astype(int)\n",
    "rates['Female Applicants'] = rates['Female Applicants'].astype(int)\n",
    "\n",
    "readable = rates.style.format({\n",
    "    'Acceptance': '{:,.2%}'.format,\n",
    "    'Male Acceptance': '{:,.2%}'.format,\n",
    "    'Female Acceptance': '{:,.2%}'.format,\n",
    "})\n",
    "readable\n"
   ]
  },
  {
   "cell_type": "markdown",
   "metadata": {},
   "source": [
    "As we can see, female acceptance rates are higher in 4/6 majors, yet male acceptance rates are *markedly* higher overall. This is in spite of female applicants having a higher acceptance rate to both of the largest programs. Yet the cause of this apparent 'paradox' is already visible within this table, if you know where to look.\n",
    "\n",
    "To examine it, let's first display each major's admissions as a bar graph."
   ]
  },
  {
   "cell_type": "code",
   "execution_count": null,
   "metadata": {},
   "outputs": [],
   "source": [
    "# Initialise the subplot function using number of rows and columns\n",
    "figure, axis = plt.subplots(3, 3)\n",
    "bar_labels = ['male', 'female']\n",
    "bar_colors = ['tab:red', 'tab:blue']\n",
    "\n",
    "i = 0\n",
    "for index, row in rates.iterrows():\n",
    "    axis[(int)(i/3),(i%3)].bar([\"Male\", \"Female\"], [row['Male Acceptance'],row['Female Acceptance']], label=bar_labels, color=bar_colors)\n",
    "\n",
    "    axis[(int)(i/3),(i%3)].set_ylabel('Acceptance Rate')\n",
    "    axis[(int)(i/3),(i%3)].set_title('Acceptances Rates for Major {}'.format(row['Major']))\n",
    "    axis[(int)(i/3),(i%3)].set_ybound(0, 1)\n",
    "\n",
    "    i += 1\n",
    "\n",
    "figure.set_figwidth(15)\n",
    "figure.set_figheight(15)\n",
    "plt.show()\n"
   ]
  },
  {
   "cell_type": "markdown",
   "metadata": {},
   "source": [
    "This confirms what was already visible: individual acceptance rates are 3:2 in favor of female applicants, yet our overall acceptance rates is very heavily male biased. Where is this stark difference in ratios coming from? \n",
    "\n",
    "The \"paradox\" can be dispelled by including a bit of additional information in these graphs... specifically, the percentage of *overall applicants* to the school which were accepted to this major. And then we'll trim a bit of excess data to compare the average (ungendered) acceptance rate of each major with these applicant percentages."
   ]
  },
  {
   "cell_type": "code",
   "execution_count": null,
   "metadata": {},
   "outputs": [],
   "source": [
    "# Initialise the subplot function using number of rows and columns\n",
    "figure, axis = plt.subplots(3, 3)\n",
    "bar_labels = ['male program rate', 'female program rate', 'male school rate', 'female school rate']\n",
    "bar_colors = ['tab:red', 'tab:blue', 'tab:orange', 'tab:purple']\n",
    "\n",
    "i = 0\n",
    "for index, row in rates.iterrows():\n",
    "    axis[(int)(i/3),(i%3)].bar(['M program', 'F program', 'M school', 'F school'], [row['Male Acceptance'],row['Female Acceptance'], (row['Male Applicants'])/len(bk),(row['Female Applicants'])/len(bk)], label=bar_labels, color=bar_colors)\n",
    "\n",
    "    axis[(int)(i/3),(i%3)].set_ylabel('Acceptance Rate')\n",
    "    axis[(int)(i/3),(i%3)].set_title('Acceptances Rates for Major {}'.format(row['Major']))\n",
    "    axis[(int)(i/3),(i%3)].set_ybound(0, 1)\n",
    "\n",
    "    i += 1\n",
    "\n",
    "figure.set_figwidth(15)\n",
    "figure.set_figheight(15)\n",
    "plt.show()\n",
    "\n",
    "df = rates.drop(['Applicants','Male Applicants','Male Acceptance','Female Applicants','Female Acceptance'], axis=1)\n",
    "df\n"
   ]
  },
  {
   "cell_type": "markdown",
   "metadata": {},
   "source": [
    "Can you see it yet? One more graph for the road."
   ]
  },
  {
   "cell_type": "code",
   "execution_count": null,
   "metadata": {},
   "outputs": [],
   "source": [
    "rates = rates.drop(rates[(df.Major == 'Composite')].index)\n",
    "\n",
    "plt.xlabel(\"Program Acceptance Rate\")\n",
    "plt.ylabel(\"Percentage of Total Male Applicants\")\n",
    "plt.plot(rates[\"Acceptance\"], rates[\"Male Population Percentage\"])\n",
    "plt.show()\n",
    "\n",
    "plt.xlabel(\"Program Acceptance Rate\")\n",
    "plt.ylabel(\"Percentage of Total Female Applicants\")\n",
    "plt.plot(rates[\"Acceptance\"], rates[\"Female Population Percentage\"])\n",
    "plt.show()"
   ]
  },
  {
   "cell_type": "markdown",
   "metadata": {},
   "source": [
    "And here in lies the trick: Female applicants applied disproportionately to programs which accepted the least students overall! While large programs like A and B accepted female students at a higher *rate*, more male students applied to these programs overall and thus more were admitted in terms of actual student count. Meanwhile, even when female applicants performed at a better rate for smaller programs like E and F, the total student count that these programs contributed was small.\n",
    "\n",
    "The root of this paradox comes from:\n",
    "\n",
    "A. The fact that different programs have different intrinsic acceptance rates.\n",
    "B. The uneven distribution of gender between these heterogeneous programs.\n",
    "\n",
    "\n",
    "\n",
    "When we introduce concrete numbers into the narrative, the problem starts to become a lot more intuitive. For example, consider if you are told that:\n",
    "\n",
    "* 50% of men and 60% of women were admitted to one program\n",
    "* 5% of men and 10% of  women were admitted to another program\n",
    "* Overall, a higher percentage of men were admitted than of women\n",
    "\n",
    "you might be justifiably confused. How do do female applicants have a higher success rate in any given case, but a lower success rate overall? But as we've shown above, the answer lies in recognizing that the 'losers' in each scenario are not necessarily equivalent. That 60% may represent 60% of a very small fraction of the full female applicant pool (ie, a small number of 'successes') while the 10% may represent a very large fraction of the full female applicant pool (ergo, the 90% who were rejected represent a very large number of 'failures'). We can demonstrate this easily by attaching some extreme numbers to this hypothetical. Imagine that:\n",
    "\n",
    "* 50% of a thousand men and 60% of one hundred women to one program\n",
    "* 5% of a hundred men and 10% of a thousand women to another program\n",
    "\n",
    "With a sample of this size, it's much easier to intuit why this happens: while the female applicants aggregate around the worst overall odds, male applicants are aggregating around higher odds.\n",
    "\n"
   ]
  },
  {
   "cell_type": "markdown",
   "metadata": {},
   "source": []
  }
 ],
 "metadata": {
  "kernelspec": {
   "display_name": "Python 3",
   "language": "python",
   "name": "python3"
  },
  "language_info": {
   "codemirror_mode": {
    "name": "ipython",
    "version": 3
   },
   "file_extension": ".py",
   "mimetype": "text/x-python",
   "name": "python",
   "nbconvert_exporter": "python",
   "pygments_lexer": "ipython3",
   "version": "3.11.5"
  }
 },
 "nbformat": 4,
 "nbformat_minor": 2
}
